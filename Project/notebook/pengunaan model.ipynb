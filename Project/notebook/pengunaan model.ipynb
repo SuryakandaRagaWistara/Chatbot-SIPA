{
  "nbformat": 4,
  "nbformat_minor": 0,
  "metadata": {
    "colab": {
      "provenance": []
    },
    "kernelspec": {
      "name": "python3",
      "display_name": "Python 3"
    },
    "language_info": {
      "name": "python"
    }
  },
  "cells": [
    {
      "cell_type": "code",
      "execution_count": 1,
      "metadata": {
        "colab": {
          "base_uri": "https://localhost:8080/"
        },
        "id": "57-luf854MpL",
        "outputId": "ea454dd2-3bc8-4db6-ea31-ac2b14bc25e5"
      },
      "outputs": [
        {
          "output_type": "stream",
          "name": "stdout",
          "text": [
            "Mounted at /content/drive\n"
          ]
        }
      ],
      "source": [
        "from google.colab import drive\n",
        "drive.mount('/content/drive')"
      ]
    },
    {
      "cell_type": "code",
      "source": [
        "import zipfile\n",
        "\n",
        "# Path ke file ZIP\n",
        "zip_files = {\n",
        "    \"/content/drive/MyDrive/T5_Checkpoints/t5-squad2-checkpoint.zip\": \"/content/t5-squad2-checkpoint\",\n",
        "    \"/content/drive/MyDrive/T5_Checkpoints/t5-tokenizer-50percent.zip\": \"/content/t5-tokenizer-50percent\"\n",
        "}\n",
        "\n",
        "# Ekstrak file ZIP ke folder masing-masing\n",
        "for zip_file, extract_to in zip_files.items():\n",
        "    with zipfile.ZipFile(zip_file, 'r') as zip_ref:\n",
        "        zip_ref.extractall(extract_to)\n",
        "        print(f\"Extracted: {zip_file} -> {extract_to}\")\n"
      ],
      "metadata": {
        "colab": {
          "base_uri": "https://localhost:8080/"
        },
        "id": "rSyTDVEu4Neb",
        "outputId": "da643270-d87e-40d9-f22a-d40312a0fa7a"
      },
      "execution_count": 2,
      "outputs": [
        {
          "output_type": "stream",
          "name": "stdout",
          "text": [
            "Extracted: /content/drive/MyDrive/T5_Checkpoints/t5-squad2-checkpoint.zip -> /content/t5-squad2-checkpoint\n",
            "Extracted: /content/drive/MyDrive/T5_Checkpoints/t5-tokenizer-50percent.zip -> /content/t5-tokenizer-50percent\n"
          ]
        }
      ]
    },
    {
      "cell_type": "markdown",
      "source": [
        "## **Cara mengunakan Pertama(1)**"
      ],
      "metadata": {
        "id": "nLTY1rLN6aPa"
      }
    },
    {
      "cell_type": "code",
      "source": [
        "from transformers import T5ForConditionalGeneration, T5Tokenizer\n",
        "\n",
        "# Path ke folder yang sudah diekstrak\n",
        "model_path = \"/content/t5-squad2-checkpoint\"\n",
        "tokenizer_path = \"/content/t5-tokenizer-50percent\"\n",
        "\n",
        "# Load tokenizer dan model\n",
        "tokenizer = T5Tokenizer.from_pretrained(tokenizer_path)\n",
        "model = T5ForConditionalGeneration.from_pretrained(model_path)\n",
        "\n",
        "print(\"Model dan tokenizer berhasil dimuat!\")\n"
      ],
      "metadata": {
        "colab": {
          "base_uri": "https://localhost:8080/"
        },
        "id": "3sKUcEp643vm",
        "outputId": "30816e5a-01bd-4da8-ddfb-b0e5263388cd"
      },
      "execution_count": 3,
      "outputs": [
        {
          "output_type": "stream",
          "name": "stdout",
          "text": [
            "Model dan tokenizer berhasil dimuat!\n"
          ]
        }
      ]
    },
    {
      "cell_type": "code",
      "source": [
        "def answer_question(question, context):\n",
        "    # Format input sesuai format T5\n",
        "    input_text = f\"question: {question} context: {context}\"\n",
        "    input_ids = tokenizer(input_text, return_tensors=\"pt\").input_ids\n",
        "\n",
        "    # Generate jawaban\n",
        "    output_ids = model.generate(input_ids)\n",
        "    answer = tokenizer.decode(output_ids[0], skip_special_tokens=True)\n",
        "\n",
        "    return answer\n",
        "\n",
        "# Contoh tes\n",
        "context = \"Albert Einstein was a theoretical physicist who developed the theory of relativity.\"\n",
        "question = \"Who developed the theory of relativity?\"\n",
        "\n",
        "print(\"Pertanyaan:\", question)\n",
        "print(\"Jawaban:\", answer_question(question, context))"
      ],
      "metadata": {
        "colab": {
          "base_uri": "https://localhost:8080/"
        },
        "id": "B9vG_Bui6LMj",
        "outputId": "5b742b96-f5dc-4e01-821f-6b7eb1a2491d"
      },
      "execution_count": 4,
      "outputs": [
        {
          "output_type": "stream",
          "name": "stdout",
          "text": [
            "Pertanyaan: Who developed the theory of relativity?\n",
            "Jawaban: Albert Einstein\n"
          ]
        }
      ]
    },
    {
      "cell_type": "markdown",
      "source": [
        "## **Cara Mengunakan Kedua(2)**"
      ],
      "metadata": {
        "id": "L8jn82yZ6h05"
      }
    },
    {
      "cell_type": "code",
      "source": [
        "!pip install duckduckgo-search transformers\n",
        "!pip install deep-translator"
      ],
      "metadata": {
        "colab": {
          "base_uri": "https://localhost:8080/"
        },
        "id": "Nfp3e7Ym6vWF",
        "outputId": "0e6db1cb-0b66-47b7-99b7-e2e723425998"
      },
      "execution_count": 7,
      "outputs": [
        {
          "output_type": "stream",
          "name": "stdout",
          "text": [
            "Collecting duckduckgo-search\n",
            "  Downloading duckduckgo_search-7.5.4-py3-none-any.whl.metadata (17 kB)\n",
            "Requirement already satisfied: transformers in /usr/local/lib/python3.11/dist-packages (4.50.0)\n",
            "Requirement already satisfied: click>=8.1.8 in /usr/local/lib/python3.11/dist-packages (from duckduckgo-search) (8.1.8)\n",
            "Collecting primp>=0.14.0 (from duckduckgo-search)\n",
            "  Downloading primp-0.14.0-cp38-abi3-manylinux_2_17_x86_64.manylinux2014_x86_64.whl.metadata (13 kB)\n",
            "Requirement already satisfied: lxml>=5.3.0 in /usr/local/lib/python3.11/dist-packages (from duckduckgo-search) (5.3.1)\n",
            "Requirement already satisfied: filelock in /usr/local/lib/python3.11/dist-packages (from transformers) (3.18.0)\n",
            "Requirement already satisfied: huggingface-hub<1.0,>=0.26.0 in /usr/local/lib/python3.11/dist-packages (from transformers) (0.29.3)\n",
            "Requirement already satisfied: numpy>=1.17 in /usr/local/lib/python3.11/dist-packages (from transformers) (2.0.2)\n",
            "Requirement already satisfied: packaging>=20.0 in /usr/local/lib/python3.11/dist-packages (from transformers) (24.2)\n",
            "Requirement already satisfied: pyyaml>=5.1 in /usr/local/lib/python3.11/dist-packages (from transformers) (6.0.2)\n",
            "Requirement already satisfied: regex!=2019.12.17 in /usr/local/lib/python3.11/dist-packages (from transformers) (2024.11.6)\n",
            "Requirement already satisfied: requests in /usr/local/lib/python3.11/dist-packages (from transformers) (2.32.3)\n",
            "Requirement already satisfied: tokenizers<0.22,>=0.21 in /usr/local/lib/python3.11/dist-packages (from transformers) (0.21.1)\n",
            "Requirement already satisfied: safetensors>=0.4.3 in /usr/local/lib/python3.11/dist-packages (from transformers) (0.5.3)\n",
            "Requirement already satisfied: tqdm>=4.27 in /usr/local/lib/python3.11/dist-packages (from transformers) (4.67.1)\n",
            "Requirement already satisfied: fsspec>=2023.5.0 in /usr/local/lib/python3.11/dist-packages (from huggingface-hub<1.0,>=0.26.0->transformers) (2025.3.0)\n",
            "Requirement already satisfied: typing-extensions>=3.7.4.3 in /usr/local/lib/python3.11/dist-packages (from huggingface-hub<1.0,>=0.26.0->transformers) (4.12.2)\n",
            "Requirement already satisfied: charset-normalizer<4,>=2 in /usr/local/lib/python3.11/dist-packages (from requests->transformers) (3.4.1)\n",
            "Requirement already satisfied: idna<4,>=2.5 in /usr/local/lib/python3.11/dist-packages (from requests->transformers) (3.10)\n",
            "Requirement already satisfied: urllib3<3,>=1.21.1 in /usr/local/lib/python3.11/dist-packages (from requests->transformers) (2.3.0)\n",
            "Requirement already satisfied: certifi>=2017.4.17 in /usr/local/lib/python3.11/dist-packages (from requests->transformers) (2025.1.31)\n",
            "Downloading duckduckgo_search-7.5.4-py3-none-any.whl (20 kB)\n",
            "Downloading primp-0.14.0-cp38-abi3-manylinux_2_17_x86_64.manylinux2014_x86_64.whl (3.3 MB)\n",
            "\u001b[2K   \u001b[90m━━━━━━━━━━━━━━━━━━━━━━━━━━━━━━━━━━━━━━━━\u001b[0m \u001b[32m3.3/3.3 MB\u001b[0m \u001b[31m41.1 MB/s\u001b[0m eta \u001b[36m0:00:00\u001b[0m\n",
            "\u001b[?25hInstalling collected packages: primp, duckduckgo-search\n",
            "Successfully installed duckduckgo-search-7.5.4 primp-0.14.0\n",
            "Collecting deep-translator\n",
            "  Downloading deep_translator-1.11.4-py3-none-any.whl.metadata (30 kB)\n",
            "Requirement already satisfied: beautifulsoup4<5.0.0,>=4.9.1 in /usr/local/lib/python3.11/dist-packages (from deep-translator) (4.13.3)\n",
            "Requirement already satisfied: requests<3.0.0,>=2.23.0 in /usr/local/lib/python3.11/dist-packages (from deep-translator) (2.32.3)\n",
            "Requirement already satisfied: soupsieve>1.2 in /usr/local/lib/python3.11/dist-packages (from beautifulsoup4<5.0.0,>=4.9.1->deep-translator) (2.6)\n",
            "Requirement already satisfied: typing-extensions>=4.0.0 in /usr/local/lib/python3.11/dist-packages (from beautifulsoup4<5.0.0,>=4.9.1->deep-translator) (4.12.2)\n",
            "Requirement already satisfied: charset-normalizer<4,>=2 in /usr/local/lib/python3.11/dist-packages (from requests<3.0.0,>=2.23.0->deep-translator) (3.4.1)\n",
            "Requirement already satisfied: idna<4,>=2.5 in /usr/local/lib/python3.11/dist-packages (from requests<3.0.0,>=2.23.0->deep-translator) (3.10)\n",
            "Requirement already satisfied: urllib3<3,>=1.21.1 in /usr/local/lib/python3.11/dist-packages (from requests<3.0.0,>=2.23.0->deep-translator) (2.3.0)\n",
            "Requirement already satisfied: certifi>=2017.4.17 in /usr/local/lib/python3.11/dist-packages (from requests<3.0.0,>=2.23.0->deep-translator) (2025.1.31)\n",
            "Downloading deep_translator-1.11.4-py3-none-any.whl (42 kB)\n",
            "\u001b[2K   \u001b[90m━━━━━━━━━━━━━━━━━━━━━━━━━━━━━━━━━━━━━━━━\u001b[0m \u001b[32m42.3/42.3 kB\u001b[0m \u001b[31m2.6 MB/s\u001b[0m eta \u001b[36m0:00:00\u001b[0m\n",
            "\u001b[?25hInstalling collected packages: deep-translator\n",
            "Successfully installed deep-translator-1.11.4\n"
          ]
        }
      ]
    },
    {
      "cell_type": "code",
      "source": [
        "from duckduckgo_search import DDGS\n",
        "from deep_translator import GoogleTranslator\n",
        "from transformers import T5Tokenizer, T5ForConditionalGeneration\n",
        "\n",
        "# Load model & tokenizer\n",
        "model_path = \"/content/t5-squad2-checkpoint\"\n",
        "tokenizer_path = \"/content/t5-tokenizer-50percent\"\n",
        "\n",
        "tokenizer = T5Tokenizer.from_pretrained(tokenizer_path)\n",
        "model = T5ForConditionalGeneration.from_pretrained(model_path)\n",
        "\n",
        "def search_context(query):\n",
        "    \"\"\"Cari informasi dari DuckDuckGo, ambil beberapa hasil, dan terjemahkan ke bahasa Inggris.\"\"\"\n",
        "    context_list = []\n",
        "\n",
        "    try:\n",
        "        with DDGS() as ddgs:\n",
        "            results = ddgs.text(query, max_results=5)  # Ambil 3 hasil pencarian\n",
        "\n",
        "        for r in results:\n",
        "            if \"body\" in r and r[\"body\"]:  # Pastikan ada isi\n",
        "                context_list.append(r[\"body\"])\n",
        "\n",
        "        if not context_list:\n",
        "            return \"Context not found.\"\n",
        "\n",
        "        # Gabungkan hasil menjadi satu teks\n",
        "        context = \" \".join(context_list)\n",
        "\n",
        "        # Terjemahkan ke bahasa Inggris jika perlu\n",
        "        translator = GoogleTranslator(source=\"auto\", target=\"en\")\n",
        "        translated_context = translator.translate(context)\n",
        "\n",
        "        return translated_context\n",
        "\n",
        "    except Exception as e:\n",
        "        return f\"Error: {str(e)}\"\n",
        "\n",
        "def generate_answer(question, context):\n",
        "    \"\"\"Jawab pertanyaan dengan model T5\"\"\"\n",
        "    if \"Error\" in context or \"Context not found\" in context:\n",
        "        return \"Sorry, I couldn't find relevant information.\"\n",
        "\n",
        "    input_text = f\"question: {question}  context: {context}\"\n",
        "    input_ids = tokenizer(input_text, return_tensors=\"pt\").input_ids\n",
        "\n",
        "    # Generate jawaban\n",
        "    output_ids = model.generate(input_ids, max_length=128)\n",
        "    return tokenizer.decode(output_ids[0], skip_special_tokens=True)\n",
        "\n",
        "# Contoh pertanyaan dan pencarian konteks\n",
        "question = \"What is the tallest mountain in the world?\"\n",
        "\n",
        "context = search_context(question)\n",
        "\n",
        "# Coba jawab pertanyaan\n",
        "answer = generate_answer(question, context)\n",
        "print(\"Translated Context:\", context)\n",
        "print(\"Jawaban:\", answer)\n"
      ],
      "metadata": {
        "colab": {
          "base_uri": "https://localhost:8080/"
        },
        "id": "WbPCT4SI6pQ1",
        "outputId": "d8bc1686-cd65-46fd-d03b-1ba57f1a288e"
      },
      "execution_count": 24,
      "outputs": [
        {
          "output_type": "stream",
          "name": "stdout",
          "text": [
            "Translated Context: The highest mountains above sea level are generally not the highest mountains above the surrounding terrain, also called the highest free-standing mountains. ... islands are below sea level, and given this consideration Mauna Kea (4,207 m (13,802 ft) above sea level) is the world's tallest mountain and volcano, rising about 10,203 m (33,474 ft) ... The tallest mountain in the world could actually be in the USA, not Nepal. Learn about the different ways to measure the height of mountains and the contenders for the highest mountain in the world. Find out why Mount Everest, Mauna Kea and Chimborazo are all considered the highest in different ways. How do you measure the tallest mountain on Earth? Learn about the different criteria and contenders, from altitude to base to peak to distance from core. The highest peak in India and the third tallest mountain in the world at 28,169 feet, Kanchenjunga welcomes a maximum of 20 to 25 climbers annually—though 2019 saw a record 34.\n",
            "Jawaban: Mauna Kea\n"
          ]
        }
      ]
    },
    {
      "cell_type": "code",
      "source": [],
      "metadata": {
        "id": "iD6RGLwx645L"
      },
      "execution_count": null,
      "outputs": []
    }
  ]
}