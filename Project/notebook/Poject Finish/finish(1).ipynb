{
  "nbformat": 4,
  "nbformat_minor": 0,
  "metadata": {
    "colab": {
      "provenance": []
    },
    "kernelspec": {
      "name": "python3",
      "display_name": "Python 3"
    },
    "language_info": {
      "name": "python"
    }
  },
  "cells": [
    {
      "cell_type": "code",
      "execution_count": 1,
      "metadata": {
        "colab": {
          "base_uri": "https://localhost:8080/"
        },
        "id": "0UhG_m-wjXAV",
        "outputId": "df30f0b0-0eb4-401f-a01a-7750b8af6e11"
      },
      "outputs": [
        {
          "output_type": "stream",
          "name": "stdout",
          "text": [
            "Mounted at /content/drive\n"
          ]
        }
      ],
      "source": [
        "from google.colab import drive\n",
        "drive.mount('/content/drive')"
      ]
    },
    {
      "cell_type": "code",
      "source": [
        "!pip install transformers torch"
      ],
      "metadata": {
        "colab": {
          "base_uri": "https://localhost:8080/"
        },
        "id": "4Q1c_mI7j2TW",
        "outputId": "1b27af63-f040-4565-b688-01f1611f264d"
      },
      "execution_count": 2,
      "outputs": [
        {
          "output_type": "stream",
          "name": "stdout",
          "text": [
            "Requirement already satisfied: transformers in /usr/local/lib/python3.11/dist-packages (4.50.3)\n",
            "Requirement already satisfied: torch in /usr/local/lib/python3.11/dist-packages (2.6.0+cu124)\n",
            "Requirement already satisfied: filelock in /usr/local/lib/python3.11/dist-packages (from transformers) (3.18.0)\n",
            "Requirement already satisfied: huggingface-hub<1.0,>=0.26.0 in /usr/local/lib/python3.11/dist-packages (from transformers) (0.30.1)\n",
            "Requirement already satisfied: numpy>=1.17 in /usr/local/lib/python3.11/dist-packages (from transformers) (2.0.2)\n",
            "Requirement already satisfied: packaging>=20.0 in /usr/local/lib/python3.11/dist-packages (from transformers) (24.2)\n",
            "Requirement already satisfied: pyyaml>=5.1 in /usr/local/lib/python3.11/dist-packages (from transformers) (6.0.2)\n",
            "Requirement already satisfied: regex!=2019.12.17 in /usr/local/lib/python3.11/dist-packages (from transformers) (2024.11.6)\n",
            "Requirement already satisfied: requests in /usr/local/lib/python3.11/dist-packages (from transformers) (2.32.3)\n",
            "Requirement already satisfied: tokenizers<0.22,>=0.21 in /usr/local/lib/python3.11/dist-packages (from transformers) (0.21.1)\n",
            "Requirement already satisfied: safetensors>=0.4.3 in /usr/local/lib/python3.11/dist-packages (from transformers) (0.5.3)\n",
            "Requirement already satisfied: tqdm>=4.27 in /usr/local/lib/python3.11/dist-packages (from transformers) (4.67.1)\n",
            "Requirement already satisfied: typing-extensions>=4.10.0 in /usr/local/lib/python3.11/dist-packages (from torch) (4.13.1)\n",
            "Requirement already satisfied: networkx in /usr/local/lib/python3.11/dist-packages (from torch) (3.4.2)\n",
            "Requirement already satisfied: jinja2 in /usr/local/lib/python3.11/dist-packages (from torch) (3.1.6)\n",
            "Requirement already satisfied: fsspec in /usr/local/lib/python3.11/dist-packages (from torch) (2025.3.2)\n",
            "Collecting nvidia-cuda-nvrtc-cu12==12.4.127 (from torch)\n",
            "  Downloading nvidia_cuda_nvrtc_cu12-12.4.127-py3-none-manylinux2014_x86_64.whl.metadata (1.5 kB)\n",
            "Collecting nvidia-cuda-runtime-cu12==12.4.127 (from torch)\n",
            "  Downloading nvidia_cuda_runtime_cu12-12.4.127-py3-none-manylinux2014_x86_64.whl.metadata (1.5 kB)\n",
            "Collecting nvidia-cuda-cupti-cu12==12.4.127 (from torch)\n",
            "  Downloading nvidia_cuda_cupti_cu12-12.4.127-py3-none-manylinux2014_x86_64.whl.metadata (1.6 kB)\n",
            "Collecting nvidia-cudnn-cu12==9.1.0.70 (from torch)\n",
            "  Downloading nvidia_cudnn_cu12-9.1.0.70-py3-none-manylinux2014_x86_64.whl.metadata (1.6 kB)\n",
            "Collecting nvidia-cublas-cu12==12.4.5.8 (from torch)\n",
            "  Downloading nvidia_cublas_cu12-12.4.5.8-py3-none-manylinux2014_x86_64.whl.metadata (1.5 kB)\n",
            "Collecting nvidia-cufft-cu12==11.2.1.3 (from torch)\n",
            "  Downloading nvidia_cufft_cu12-11.2.1.3-py3-none-manylinux2014_x86_64.whl.metadata (1.5 kB)\n",
            "Collecting nvidia-curand-cu12==10.3.5.147 (from torch)\n",
            "  Downloading nvidia_curand_cu12-10.3.5.147-py3-none-manylinux2014_x86_64.whl.metadata (1.5 kB)\n",
            "Collecting nvidia-cusolver-cu12==11.6.1.9 (from torch)\n",
            "  Downloading nvidia_cusolver_cu12-11.6.1.9-py3-none-manylinux2014_x86_64.whl.metadata (1.6 kB)\n",
            "Collecting nvidia-cusparse-cu12==12.3.1.170 (from torch)\n",
            "  Downloading nvidia_cusparse_cu12-12.3.1.170-py3-none-manylinux2014_x86_64.whl.metadata (1.6 kB)\n",
            "Requirement already satisfied: nvidia-cusparselt-cu12==0.6.2 in /usr/local/lib/python3.11/dist-packages (from torch) (0.6.2)\n",
            "Requirement already satisfied: nvidia-nccl-cu12==2.21.5 in /usr/local/lib/python3.11/dist-packages (from torch) (2.21.5)\n",
            "Requirement already satisfied: nvidia-nvtx-cu12==12.4.127 in /usr/local/lib/python3.11/dist-packages (from torch) (12.4.127)\n",
            "Collecting nvidia-nvjitlink-cu12==12.4.127 (from torch)\n",
            "  Downloading nvidia_nvjitlink_cu12-12.4.127-py3-none-manylinux2014_x86_64.whl.metadata (1.5 kB)\n",
            "Requirement already satisfied: triton==3.2.0 in /usr/local/lib/python3.11/dist-packages (from torch) (3.2.0)\n",
            "Requirement already satisfied: sympy==1.13.1 in /usr/local/lib/python3.11/dist-packages (from torch) (1.13.1)\n",
            "Requirement already satisfied: mpmath<1.4,>=1.1.0 in /usr/local/lib/python3.11/dist-packages (from sympy==1.13.1->torch) (1.3.0)\n",
            "Requirement already satisfied: MarkupSafe>=2.0 in /usr/local/lib/python3.11/dist-packages (from jinja2->torch) (3.0.2)\n",
            "Requirement already satisfied: charset-normalizer<4,>=2 in /usr/local/lib/python3.11/dist-packages (from requests->transformers) (3.4.1)\n",
            "Requirement already satisfied: idna<4,>=2.5 in /usr/local/lib/python3.11/dist-packages (from requests->transformers) (3.10)\n",
            "Requirement already satisfied: urllib3<3,>=1.21.1 in /usr/local/lib/python3.11/dist-packages (from requests->transformers) (2.3.0)\n",
            "Requirement already satisfied: certifi>=2017.4.17 in /usr/local/lib/python3.11/dist-packages (from requests->transformers) (2025.1.31)\n",
            "Downloading nvidia_cublas_cu12-12.4.5.8-py3-none-manylinux2014_x86_64.whl (363.4 MB)\n",
            "\u001b[2K   \u001b[90m━━━━━━━━━━━━━━━━━━━━━━━━━━━━━━━━━━━━━━━━\u001b[0m \u001b[32m363.4/363.4 MB\u001b[0m \u001b[31m3.4 MB/s\u001b[0m eta \u001b[36m0:00:00\u001b[0m\n",
            "\u001b[?25hDownloading nvidia_cuda_cupti_cu12-12.4.127-py3-none-manylinux2014_x86_64.whl (13.8 MB)\n",
            "\u001b[2K   \u001b[90m━━━━━━━━━━━━━━━━━━━━━━━━━━━━━━━━━━━━━━━━\u001b[0m \u001b[32m13.8/13.8 MB\u001b[0m \u001b[31m79.6 MB/s\u001b[0m eta \u001b[36m0:00:00\u001b[0m\n",
            "\u001b[?25hDownloading nvidia_cuda_nvrtc_cu12-12.4.127-py3-none-manylinux2014_x86_64.whl (24.6 MB)\n",
            "\u001b[2K   \u001b[90m━━━━━━━━━━━━━━━━━━━━━━━━━━━━━━━━━━━━━━━━\u001b[0m \u001b[32m24.6/24.6 MB\u001b[0m \u001b[31m49.4 MB/s\u001b[0m eta \u001b[36m0:00:00\u001b[0m\n",
            "\u001b[?25hDownloading nvidia_cuda_runtime_cu12-12.4.127-py3-none-manylinux2014_x86_64.whl (883 kB)\n",
            "\u001b[2K   \u001b[90m━━━━━━━━━━━━━━━━━━━━━━━━━━━━━━━━━━━━━━━━\u001b[0m \u001b[32m883.7/883.7 kB\u001b[0m \u001b[31m32.7 MB/s\u001b[0m eta \u001b[36m0:00:00\u001b[0m\n",
            "\u001b[?25hDownloading nvidia_cudnn_cu12-9.1.0.70-py3-none-manylinux2014_x86_64.whl (664.8 MB)\n",
            "\u001b[2K   \u001b[90m━━━━━━━━━━━━━━━━━━━━━━━━━━━━━━━━━━━━━━━━\u001b[0m \u001b[32m664.8/664.8 MB\u001b[0m \u001b[31m2.4 MB/s\u001b[0m eta \u001b[36m0:00:00\u001b[0m\n",
            "\u001b[?25hDownloading nvidia_cufft_cu12-11.2.1.3-py3-none-manylinux2014_x86_64.whl (211.5 MB)\n",
            "\u001b[2K   \u001b[90m━━━━━━━━━━━━━━━━━━━━━━━━━━━━━━━━━━━━━━━━\u001b[0m \u001b[32m211.5/211.5 MB\u001b[0m \u001b[31m5.8 MB/s\u001b[0m eta \u001b[36m0:00:00\u001b[0m\n",
            "\u001b[?25hDownloading nvidia_curand_cu12-10.3.5.147-py3-none-manylinux2014_x86_64.whl (56.3 MB)\n",
            "\u001b[2K   \u001b[90m━━━━━━━━━━━━━━━━━━━━━━━━━━━━━━━━━━━━━━━━\u001b[0m \u001b[32m56.3/56.3 MB\u001b[0m \u001b[31m9.5 MB/s\u001b[0m eta \u001b[36m0:00:00\u001b[0m\n",
            "\u001b[?25hDownloading nvidia_cusolver_cu12-11.6.1.9-py3-none-manylinux2014_x86_64.whl (127.9 MB)\n",
            "\u001b[2K   \u001b[90m━━━━━━━━━━━━━━━━━━━━━━━━━━━━━━━━━━━━━━━━\u001b[0m \u001b[32m127.9/127.9 MB\u001b[0m \u001b[31m8.6 MB/s\u001b[0m eta \u001b[36m0:00:00\u001b[0m\n",
            "\u001b[?25hDownloading nvidia_cusparse_cu12-12.3.1.170-py3-none-manylinux2014_x86_64.whl (207.5 MB)\n",
            "\u001b[2K   \u001b[90m━━━━━━━━━━━━━━━━━━━━━━━━━━━━━━━━━━━━━━━━\u001b[0m \u001b[32m207.5/207.5 MB\u001b[0m \u001b[31m3.5 MB/s\u001b[0m eta \u001b[36m0:00:00\u001b[0m\n",
            "\u001b[?25hDownloading nvidia_nvjitlink_cu12-12.4.127-py3-none-manylinux2014_x86_64.whl (21.1 MB)\n",
            "\u001b[2K   \u001b[90m━━━━━━━━━━━━━━━━━━━━━━━━━━━━━━━━━━━━━━━━\u001b[0m \u001b[32m21.1/21.1 MB\u001b[0m \u001b[31m45.6 MB/s\u001b[0m eta \u001b[36m0:00:00\u001b[0m\n",
            "\u001b[?25hInstalling collected packages: nvidia-nvjitlink-cu12, nvidia-curand-cu12, nvidia-cufft-cu12, nvidia-cuda-runtime-cu12, nvidia-cuda-nvrtc-cu12, nvidia-cuda-cupti-cu12, nvidia-cublas-cu12, nvidia-cusparse-cu12, nvidia-cudnn-cu12, nvidia-cusolver-cu12\n",
            "  Attempting uninstall: nvidia-nvjitlink-cu12\n",
            "    Found existing installation: nvidia-nvjitlink-cu12 12.5.82\n",
            "    Uninstalling nvidia-nvjitlink-cu12-12.5.82:\n",
            "      Successfully uninstalled nvidia-nvjitlink-cu12-12.5.82\n",
            "  Attempting uninstall: nvidia-curand-cu12\n",
            "    Found existing installation: nvidia-curand-cu12 10.3.6.82\n",
            "    Uninstalling nvidia-curand-cu12-10.3.6.82:\n",
            "      Successfully uninstalled nvidia-curand-cu12-10.3.6.82\n",
            "  Attempting uninstall: nvidia-cufft-cu12\n",
            "    Found existing installation: nvidia-cufft-cu12 11.2.3.61\n",
            "    Uninstalling nvidia-cufft-cu12-11.2.3.61:\n",
            "      Successfully uninstalled nvidia-cufft-cu12-11.2.3.61\n",
            "  Attempting uninstall: nvidia-cuda-runtime-cu12\n",
            "    Found existing installation: nvidia-cuda-runtime-cu12 12.5.82\n",
            "    Uninstalling nvidia-cuda-runtime-cu12-12.5.82:\n",
            "      Successfully uninstalled nvidia-cuda-runtime-cu12-12.5.82\n",
            "  Attempting uninstall: nvidia-cuda-nvrtc-cu12\n",
            "    Found existing installation: nvidia-cuda-nvrtc-cu12 12.5.82\n",
            "    Uninstalling nvidia-cuda-nvrtc-cu12-12.5.82:\n",
            "      Successfully uninstalled nvidia-cuda-nvrtc-cu12-12.5.82\n",
            "  Attempting uninstall: nvidia-cuda-cupti-cu12\n",
            "    Found existing installation: nvidia-cuda-cupti-cu12 12.5.82\n",
            "    Uninstalling nvidia-cuda-cupti-cu12-12.5.82:\n",
            "      Successfully uninstalled nvidia-cuda-cupti-cu12-12.5.82\n",
            "  Attempting uninstall: nvidia-cublas-cu12\n",
            "    Found existing installation: nvidia-cublas-cu12 12.5.3.2\n",
            "    Uninstalling nvidia-cublas-cu12-12.5.3.2:\n",
            "      Successfully uninstalled nvidia-cublas-cu12-12.5.3.2\n",
            "  Attempting uninstall: nvidia-cusparse-cu12\n",
            "    Found existing installation: nvidia-cusparse-cu12 12.5.1.3\n",
            "    Uninstalling nvidia-cusparse-cu12-12.5.1.3:\n",
            "      Successfully uninstalled nvidia-cusparse-cu12-12.5.1.3\n",
            "  Attempting uninstall: nvidia-cudnn-cu12\n",
            "    Found existing installation: nvidia-cudnn-cu12 9.3.0.75\n",
            "    Uninstalling nvidia-cudnn-cu12-9.3.0.75:\n",
            "      Successfully uninstalled nvidia-cudnn-cu12-9.3.0.75\n",
            "  Attempting uninstall: nvidia-cusolver-cu12\n",
            "    Found existing installation: nvidia-cusolver-cu12 11.6.3.83\n",
            "    Uninstalling nvidia-cusolver-cu12-11.6.3.83:\n",
            "      Successfully uninstalled nvidia-cusolver-cu12-11.6.3.83\n",
            "Successfully installed nvidia-cublas-cu12-12.4.5.8 nvidia-cuda-cupti-cu12-12.4.127 nvidia-cuda-nvrtc-cu12-12.4.127 nvidia-cuda-runtime-cu12-12.4.127 nvidia-cudnn-cu12-9.1.0.70 nvidia-cufft-cu12-11.2.1.3 nvidia-curand-cu12-10.3.5.147 nvidia-cusolver-cu12-11.6.1.9 nvidia-cusparse-cu12-12.3.1.170 nvidia-nvjitlink-cu12-12.4.127\n"
          ]
        }
      ]
    },
    {
      "cell_type": "markdown",
      "source": [
        "# **Model Bert**"
      ],
      "metadata": {
        "id": "lMOCaSJ-sid-"
      }
    },
    {
      "cell_type": "code",
      "source": [
        "from transformers import BertTokenizer, BertForSequenceClassification, pipeline\n",
        "\n",
        "# Load tokenizer dan model yang sudah dilatih\n",
        "model_path = \"/content/drive/MyDrive/bert_intent_model\"\n",
        "tokenizer = BertTokenizer.from_pretrained(model_path)\n",
        "model = BertForSequenceClassification.from_pretrained(model_path)\n",
        "\n",
        "# Inisialisasi pipeline untuk klasifikasi teks\n",
        "classifier = pipeline(\"text-classification\", model=model, tokenizer=tokenizer)\n"
      ],
      "metadata": {
        "colab": {
          "base_uri": "https://localhost:8080/"
        },
        "id": "L0E_6EqlkW5l",
        "outputId": "c04cca7c-6381-48eb-c896-f93b60c53426"
      },
      "execution_count": 8,
      "outputs": [
        {
          "output_type": "stream",
          "name": "stderr",
          "text": [
            "Device set to use cpu\n"
          ]
        }
      ]
    },
    {
      "cell_type": "code",
      "source": [
        "intent_labels = {\n",
        "    \"kata-kasar\": 0,\n",
        "    \"laporan-kekerasan\": 1,\n",
        "    \"psikologi\": 2,\n",
        "    \"data-umum\": 3,\n",
        "    \"jumlah-kdrt\": 4\n",
        "}\n",
        "# Balik: angka ke label\n",
        "reverse_labels = {v: k for k, v in intent_labels.items()}\n"
      ],
      "metadata": {
        "id": "_zknaiAhnLjt"
      },
      "execution_count": 9,
      "outputs": []
    },
    {
      "cell_type": "code",
      "source": [
        "\n",
        "test_texts = [\n",
        "    \"aku ingin melapor kekerasan sekolah\",\n",
        "]\n",
        "\n",
        "predictions = classifier(test_texts)\n",
        "\n",
        "for text, pred in zip(test_texts, predictions):\n",
        "    label_index = int(pred[\"label\"].split(\"_\")[1])\n",
        "    intent = reverse_labels[label_index]\n",
        "    print(f\"Teks: {text}\\nPrediksi Intent: {intent}\\n\")"
      ],
      "metadata": {
        "colab": {
          "base_uri": "https://localhost:8080/"
        },
        "id": "ZrYIQVK9kw6q",
        "outputId": "48bb48ad-fb06-4e04-c52f-41796da216fd"
      },
      "execution_count": 11,
      "outputs": [
        {
          "output_type": "stream",
          "name": "stdout",
          "text": [
            "Teks: aku ingin melapor kekerasan sekolah\n",
            "Prediksi Intent: laporan-kekerasan\n",
            "\n"
          ]
        }
      ]
    },
    {
      "cell_type": "markdown",
      "source": [
        "# **Model t5**"
      ],
      "metadata": {
        "id": "_dYSH0B7kj2q"
      }
    },
    {
      "cell_type": "code",
      "source": [
        "!pip install duckduckgo-search transformers\n",
        "!pip install deep-translator"
      ],
      "metadata": {
        "colab": {
          "base_uri": "https://localhost:8080/"
        },
        "id": "MPmzvN38kdtD",
        "outputId": "4704e9e1-0c20-429e-e59c-79356bc90644"
      },
      "execution_count": 4,
      "outputs": [
        {
          "output_type": "stream",
          "name": "stdout",
          "text": [
            "Collecting duckduckgo-search\n",
            "  Downloading duckduckgo_search-2025.4.4-cp311-cp311-manylinux_2_17_x86_64.manylinux2014_x86_64.whl.metadata (17 kB)\n",
            "Requirement already satisfied: transformers in /usr/local/lib/python3.11/dist-packages (4.50.3)\n",
            "Requirement already satisfied: click>=8.1.8 in /usr/local/lib/python3.11/dist-packages (from duckduckgo-search) (8.1.8)\n",
            "Collecting primp>=0.14.0 (from duckduckgo-search)\n",
            "  Downloading primp-0.14.0-cp38-abi3-manylinux_2_17_x86_64.manylinux2014_x86_64.whl.metadata (13 kB)\n",
            "Requirement already satisfied: lxml>=5.3.0 in /usr/local/lib/python3.11/dist-packages (from duckduckgo-search) (5.3.1)\n",
            "Requirement already satisfied: filelock in /usr/local/lib/python3.11/dist-packages (from transformers) (3.18.0)\n",
            "Requirement already satisfied: huggingface-hub<1.0,>=0.26.0 in /usr/local/lib/python3.11/dist-packages (from transformers) (0.30.1)\n",
            "Requirement already satisfied: numpy>=1.17 in /usr/local/lib/python3.11/dist-packages (from transformers) (2.0.2)\n",
            "Requirement already satisfied: packaging>=20.0 in /usr/local/lib/python3.11/dist-packages (from transformers) (24.2)\n",
            "Requirement already satisfied: pyyaml>=5.1 in /usr/local/lib/python3.11/dist-packages (from transformers) (6.0.2)\n",
            "Requirement already satisfied: regex!=2019.12.17 in /usr/local/lib/python3.11/dist-packages (from transformers) (2024.11.6)\n",
            "Requirement already satisfied: requests in /usr/local/lib/python3.11/dist-packages (from transformers) (2.32.3)\n",
            "Requirement already satisfied: tokenizers<0.22,>=0.21 in /usr/local/lib/python3.11/dist-packages (from transformers) (0.21.1)\n",
            "Requirement already satisfied: safetensors>=0.4.3 in /usr/local/lib/python3.11/dist-packages (from transformers) (0.5.3)\n",
            "Requirement already satisfied: tqdm>=4.27 in /usr/local/lib/python3.11/dist-packages (from transformers) (4.67.1)\n",
            "Requirement already satisfied: fsspec>=2023.5.0 in /usr/local/lib/python3.11/dist-packages (from huggingface-hub<1.0,>=0.26.0->transformers) (2025.3.2)\n",
            "Requirement already satisfied: typing-extensions>=3.7.4.3 in /usr/local/lib/python3.11/dist-packages (from huggingface-hub<1.0,>=0.26.0->transformers) (4.13.1)\n",
            "Requirement already satisfied: charset-normalizer<4,>=2 in /usr/local/lib/python3.11/dist-packages (from requests->transformers) (3.4.1)\n",
            "Requirement already satisfied: idna<4,>=2.5 in /usr/local/lib/python3.11/dist-packages (from requests->transformers) (3.10)\n",
            "Requirement already satisfied: urllib3<3,>=1.21.1 in /usr/local/lib/python3.11/dist-packages (from requests->transformers) (2.3.0)\n",
            "Requirement already satisfied: certifi>=2017.4.17 in /usr/local/lib/python3.11/dist-packages (from requests->transformers) (2025.1.31)\n",
            "Downloading duckduckgo_search-2025.4.4-cp311-cp311-manylinux_2_17_x86_64.manylinux2014_x86_64.whl (94 kB)\n",
            "\u001b[2K   \u001b[90m━━━━━━━━━━━━━━━━━━━━━━━━━━━━━━━━━━━━━━━━\u001b[0m \u001b[32m94.9/94.9 kB\u001b[0m \u001b[31m5.6 MB/s\u001b[0m eta \u001b[36m0:00:00\u001b[0m\n",
            "\u001b[?25hDownloading primp-0.14.0-cp38-abi3-manylinux_2_17_x86_64.manylinux2014_x86_64.whl (3.3 MB)\n",
            "\u001b[2K   \u001b[90m━━━━━━━━━━━━━━━━━━━━━━━━━━━━━━━━━━━━━━━━\u001b[0m \u001b[32m3.3/3.3 MB\u001b[0m \u001b[31m19.9 MB/s\u001b[0m eta \u001b[36m0:00:00\u001b[0m\n",
            "\u001b[?25hInstalling collected packages: primp, duckduckgo-search\n",
            "Successfully installed duckduckgo-search-2025.4.4 primp-0.14.0\n",
            "Collecting deep-translator\n",
            "  Downloading deep_translator-1.11.4-py3-none-any.whl.metadata (30 kB)\n",
            "Requirement already satisfied: beautifulsoup4<5.0.0,>=4.9.1 in /usr/local/lib/python3.11/dist-packages (from deep-translator) (4.13.3)\n",
            "Requirement already satisfied: requests<3.0.0,>=2.23.0 in /usr/local/lib/python3.11/dist-packages (from deep-translator) (2.32.3)\n",
            "Requirement already satisfied: soupsieve>1.2 in /usr/local/lib/python3.11/dist-packages (from beautifulsoup4<5.0.0,>=4.9.1->deep-translator) (2.6)\n",
            "Requirement already satisfied: typing-extensions>=4.0.0 in /usr/local/lib/python3.11/dist-packages (from beautifulsoup4<5.0.0,>=4.9.1->deep-translator) (4.13.1)\n",
            "Requirement already satisfied: charset-normalizer<4,>=2 in /usr/local/lib/python3.11/dist-packages (from requests<3.0.0,>=2.23.0->deep-translator) (3.4.1)\n",
            "Requirement already satisfied: idna<4,>=2.5 in /usr/local/lib/python3.11/dist-packages (from requests<3.0.0,>=2.23.0->deep-translator) (3.10)\n",
            "Requirement already satisfied: urllib3<3,>=1.21.1 in /usr/local/lib/python3.11/dist-packages (from requests<3.0.0,>=2.23.0->deep-translator) (2.3.0)\n",
            "Requirement already satisfied: certifi>=2017.4.17 in /usr/local/lib/python3.11/dist-packages (from requests<3.0.0,>=2.23.0->deep-translator) (2025.1.31)\n",
            "Downloading deep_translator-1.11.4-py3-none-any.whl (42 kB)\n",
            "\u001b[2K   \u001b[90m━━━━━━━━━━━━━━━━━━━━━━━━━━━━━━━━━━━━━━━━\u001b[0m \u001b[32m42.3/42.3 kB\u001b[0m \u001b[31m1.7 MB/s\u001b[0m eta \u001b[36m0:00:00\u001b[0m\n",
            "\u001b[?25hInstalling collected packages: deep-translator\n",
            "Successfully installed deep-translator-1.11.4\n"
          ]
        }
      ]
    },
    {
      "cell_type": "code",
      "source": [
        "import os\n",
        "\n",
        "model_path = \"/content/drive/MyDrive/T5_Checkpoints\"\n",
        "print(os.listdir(model_path))\n"
      ],
      "metadata": {
        "colab": {
          "base_uri": "https://localhost:8080/"
        },
        "id": "UzHvdk13npal",
        "outputId": "23f63506-107f-43d4-807e-97b78381b1d7"
      },
      "execution_count": 14,
      "outputs": [
        {
          "output_type": "stream",
          "name": "stdout",
          "text": [
            "['t5-tokenizer-50percent.zip', 't5-squad2-checkpoint.zip', 'Salinan t5-tokenizer-50percent.zip']\n"
          ]
        }
      ]
    },
    {
      "cell_type": "code",
      "source": [
        "import zipfile\n",
        "import os\n",
        "\n",
        "zip_paths = [\n",
        "    \"/content/drive/MyDrive/T5_Checkpoints/t5-tokenizer-50percent.zip\",\n",
        "    \"/content/drive/MyDrive/T5_Checkpoints/t5-squad2-checkpoint.zip\"\n",
        "]\n",
        "\n",
        "for zip_path in zip_paths:\n",
        "    with zipfile.ZipFile(zip_path, 'r') as zip_ref:\n",
        "        extract_folder = zip_path.replace(\".zip\", \"\")\n",
        "        zip_ref.extractall(extract_folder)\n",
        "        print(f\"✅ Berhasil ekstrak: {zip_path} ke {extract_folder}\")\n"
      ],
      "metadata": {
        "colab": {
          "base_uri": "https://localhost:8080/"
        },
        "id": "VJ19XnBfoA9e",
        "outputId": "4f1b74d4-99fb-4d71-d4c1-3115f98152d7"
      },
      "execution_count": 15,
      "outputs": [
        {
          "output_type": "stream",
          "name": "stdout",
          "text": [
            "✅ Berhasil ekstrak: /content/drive/MyDrive/T5_Checkpoints/t5-tokenizer-50percent.zip ke /content/drive/MyDrive/T5_Checkpoints/t5-tokenizer-50percent\n",
            "✅ Berhasil ekstrak: /content/drive/MyDrive/T5_Checkpoints/t5-squad2-checkpoint.zip ke /content/drive/MyDrive/T5_Checkpoints/t5-squad2-checkpoint\n"
          ]
        }
      ]
    },
    {
      "cell_type": "code",
      "source": [
        "from duckduckgo_search import DDGS\n",
        "from deep_translator import GoogleTranslator\n",
        "from transformers import T5Tokenizer, T5ForConditionalGeneration\n",
        "\n",
        "tokenizer_path = \"/content/drive/MyDrive/T5_Checkpoints/t5-tokenizer-50percent\"\n",
        "model_path = \"/content/drive/MyDrive/T5_Checkpoints/t5-squad2-checkpoint\"\n",
        "\n",
        "tokenizer = T5Tokenizer.from_pretrained(tokenizer_path)\n",
        "model = T5ForConditionalGeneration.from_pretrained(model_path)\n",
        "\n",
        "\n",
        "\n",
        "def search_context(query):\n",
        "    \"\"\"Cari informasi dari DuckDuckGo, ambil beberapa hasil, dan terjemahkan ke bahasa Inggris.\"\"\"\n",
        "    context_list = []\n",
        "\n",
        "    try:\n",
        "        with DDGS() as ddgs:\n",
        "            results = ddgs.text(query, max_results=5)  # Ambil 3 hasil pencarian\n",
        "\n",
        "        for r in results:\n",
        "            if \"body\" in r and r[\"body\"]:  # Pastikan ada isi\n",
        "                context_list.append(r[\"body\"])\n",
        "\n",
        "        if not context_list:\n",
        "            return \"Context not found.\"\n",
        "\n",
        "        # Gabungkan hasil menjadi satu teks\n",
        "        context = \" \".join(context_list)\n",
        "\n",
        "        # Terjemahkan ke bahasa Inggris jika perlu\n",
        "        translator = GoogleTranslator(source=\"auto\", target=\"en\")\n",
        "        translated_context = translator.translate(context)\n",
        "\n",
        "        return translated_context\n",
        "\n",
        "    except Exception as e:\n",
        "        return f\"Error: {str(e)}\"\n",
        "\n",
        "def generate_answer(question, context):\n",
        "    \"\"\"Jawab pertanyaan dengan model T5\"\"\"\n",
        "    if \"Error\" in context or \"Context not found\" in context:\n",
        "        return \"Sorry, I couldn't find relevant information.\"\n",
        "\n",
        "    input_text = f\"question: {question}  context: {context}\"\n",
        "    input_ids = tokenizer(input_text, return_tensors=\"pt\").input_ids\n",
        "\n",
        "    # Generate jawaban\n",
        "    output_ids = model.generate(input_ids, max_length=128)\n",
        "    return tokenizer.decode(output_ids[0], skip_special_tokens=True)\n",
        "\n",
        "# Contoh pertanyaan dan pencarian konteks\n",
        "question = \"im so confused\"\n",
        "\n",
        "context = search_context(question)\n",
        "\n",
        "# Coba jawab pertanyaan\n",
        "answer = generate_answer(question, context)\n",
        "print(\"Translated Context:\", context)\n",
        "print(\"Jawaban:\", answer)\n",
        "\n",
        "predictions = classifier(question)\n",
        "\n",
        "for text, pred in zip(test_texts, predictions):\n",
        "    label_index = int(pred[\"label\"].split(\"_\")[1])\n",
        "    intent = reverse_labels[label_index]\n",
        "    print(f\"Teks: {text}\\nPrediksi Intent: {intent}\\n\")"
      ],
      "metadata": {
        "colab": {
          "base_uri": "https://localhost:8080/"
        },
        "id": "z3BZYaoLkjBl",
        "outputId": "ce34d47a-562f-4bca-c03b-f258aedae7b4"
      },
      "execution_count": 17,
      "outputs": [
        {
          "output_type": "stream",
          "name": "stdout",
          "text": [
            "Translated Context: Learn why confusion arises and how to overcome it with 8 pointers that will help you stay in the present, feel the fear, and trust life. Find out how to stop thinking and get into stillness, and how to embrace the mystery of life. Learn how to distinguish between your true nature of clarity and the confusing thoughts that create the illusion of confusion. Discover how to access your clarity and make decisions based on your deepest knowing, not on your insecure or fearful thinking. Since 2006, I've helped more than a few people with that feeling of \"lost and confused,\" helping them to shift from confused, to clarity. Lost and Confused: Help is Here. First, when you're feeling lost and confused, do this: don't do anything. Not doing something when you feel lost and confused is a healthy action. Most of us go back and ... Use deep breathing to trigger your body's relaxation response. Slow, guided breathing improves your mood and focus and reduces anxiety. When you feel confused or paralyzed by indecision, try one of these breathing exercises: The 4-7-8 Technique: Inhale through your nose for 4 seconds. Hold your breath for 7 seconds, then exhale through your mouth for 8 seconds. If you feel lost and confused about life, you are not alone. Learn why you may feel this way and how to overcome it with four simple steps to discover your direction and purpose.\n",
            "Jawaban: Learn why confusion arises and how to overcome it with 8 pointers that will help you stay in the present, feel the fear, and trust life\n"
          ]
        }
      ]
    },
    {
      "cell_type": "code",
      "source": [
        "\n",
        "predictions = classifier(question)\n",
        "\n",
        "for text, pred in zip(test_texts, predictions):\n",
        "    label_index = int(pred[\"label\"].split(\"_\")[1])\n",
        "    intent = reverse_labels[label_index]\n",
        "    print(f\"Teks: {text}\\nPrediksi Intent: {intent}\\n\")"
      ],
      "metadata": {
        "colab": {
          "base_uri": "https://localhost:8080/"
        },
        "id": "Gs9kDAmnoLqc",
        "outputId": "e961f32a-c598-4ba9-99ac-7f950bd8dffe"
      },
      "execution_count": 18,
      "outputs": [
        {
          "output_type": "stream",
          "name": "stdout",
          "text": [
            "Teks: aku ingin melapor kekerasan sekolah\n",
            "Prediksi Intent: data-umum\n",
            "\n"
          ]
        }
      ]
    },
    {
      "cell_type": "code",
      "source": [],
      "metadata": {
        "id": "A-s7cr-tpksv"
      },
      "execution_count": null,
      "outputs": []
    },
    {
      "cell_type": "markdown",
      "source": [],
      "metadata": {
        "id": "S__9EobMsq1c"
      }
    },
    {
      "cell_type": "markdown",
      "source": [
        "# **Finish**"
      ],
      "metadata": {
        "id": "uD3CekY2svLV"
      }
    },
    {
      "cell_type": "code",
      "source": [
        "from duckduckgo_search import DDGS\n",
        "from deep_translator import GoogleTranslator\n",
        "from transformers import T5Tokenizer, T5ForConditionalGeneration, BertTokenizer, BertForSequenceClassification, pipeline\n",
        "\n",
        "# ========== Load Model T5 ==========\n",
        "tokenizer_t5 = T5Tokenizer.from_pretrained(\"/content/drive/MyDrive/T5_Checkpoints/t5-tokenizer-50percent\")\n",
        "model_t5 = T5ForConditionalGeneration.from_pretrained(\"/content/drive/MyDrive/T5_Checkpoints/t5-squad2-checkpoint\")\n",
        "\n",
        "# ========== Load Model BERT Intent ==========\n",
        "bert_model_path = \"/content/drive/MyDrive/bert_intent_model\"\n",
        "tokenizer_bert = BertTokenizer.from_pretrained(bert_model_path)\n",
        "model_bert = BertForSequenceClassification.from_pretrained(bert_model_path)\n",
        "classifier = pipeline(\"text-classification\", model=model_bert, tokenizer=tokenizer_bert)\n",
        "\n",
        "# ========== Label Mapping ==========\n",
        "intent_labels = {\n",
        "    \"kata-kasar\": 0,\n",
        "    \"laporan-kekerasan\": 1,\n",
        "    \"psikologi\": 2,\n",
        "    \"data-umum\": 3,\n",
        "    \"jumlah-kdrt\": 4\n",
        "}\n",
        "reverse_labels = {v: k for k, v in intent_labels.items()}\n",
        "\n",
        "# ========== Fungsi Cari Konteks ==========\n",
        "def search_context(query):\n",
        "    \"\"\"Cari informasi via DuckDuckGo dan terjemahkan hasilnya ke Inggris.\"\"\"\n",
        "    context_list = []\n",
        "    try:\n",
        "        with DDGS() as ddgs:\n",
        "            results = ddgs.text(query, max_results=5)\n",
        "\n",
        "        for r in results:\n",
        "            if \"body\" in r and r[\"body\"]:\n",
        "                context_list.append(r[\"body\"])\n",
        "\n",
        "        if not context_list:\n",
        "            return \"Context not found.\"\n",
        "\n",
        "        combined_context = \" \".join(context_list)\n",
        "\n",
        "        # Terjemahkan hasil konteks ke Inggris\n",
        "        translator = GoogleTranslator(source=\"auto\", target=\"en\")\n",
        "        translated_context = translator.translate(combined_context)\n",
        "\n",
        "        return translated_context\n",
        "\n",
        "    except Exception as e:\n",
        "        return f\"Error: {str(e)}\"\n",
        "\n",
        "# ========== Fungsi Jawab Pertanyaan ==========\n",
        "def generate_answer(question, context):\n",
        "    \"\"\"Jawab pertanyaan dengan model T5. Terjemahkan pertanyaan ke Inggris, hasilnya ke Indonesia.\"\"\"\n",
        "    if \"Error\" in context or \"Context not found\" in context:\n",
        "        return \"Maaf, aku tidak bisa menemukan informasi yang relevan.\"\n",
        "\n",
        "    # Terjemahkan pertanyaan ke Inggris\n",
        "    translated_question = GoogleTranslator(source=\"auto\", target=\"en\").translate(question)\n",
        "\n",
        "    # Format input untuk T5\n",
        "    input_text = f\"question: {translated_question}  context: {context}\"\n",
        "    input_ids = tokenizer_t5(input_text, return_tensors=\"pt\").input_ids\n",
        "\n",
        "    # Generate jawaban\n",
        "    output_ids = model_t5.generate(input_ids, max_length=128)\n",
        "    english_answer = tokenizer_t5.decode(output_ids[0], skip_special_tokens=True)\n",
        "\n",
        "    # Terjemahkan jawaban ke Bahasa Indonesia\n",
        "    indonesian_answer = GoogleTranslator(source=\"en\", target=\"id\").translate(english_answer)\n",
        "    return indonesian_answer\n",
        "\n",
        "# ========== Fungsi Prediksi Intent (BERT) ==========\n",
        "def predict_intent(texts):\n",
        "    \"\"\"Prediksi intent menggunakan model BERT (tanpa translate).\"\"\"\n",
        "    predictions = classifier(texts)\n",
        "    results = []\n",
        "    for text, pred in zip(texts, predictions):\n",
        "        label_index = int(pred[\"label\"].split(\"_\")[1])\n",
        "        intent = reverse_labels[label_index]\n",
        "        results.append((text, intent))\n",
        "    return results\n",
        "\n",
        "# ========== CONTOH PENGGUNAAN ==========\n",
        "\n",
        "user_question = \"aku bingung banget sama hidupku\"\n",
        "\n",
        "# 1. Cari konteks dari internet\n",
        "context = search_context(user_question)\n",
        "\n",
        "# 2. Jawab pakai T5 (terjemahin bolak-balik)\n",
        "answer = generate_answer(user_question, context)\n",
        "\n",
        "# 3. Prediksi intent pakai BERT (tanpa translate)\n",
        "intent_results = predict_intent([user_question])\n",
        "\n",
        "# ========== Output ==========\n",
        "print(\"📚 Konteks (terjemahan Inggris):\", context)\n",
        "print(\"🧠 Jawaban (dalam Bahasa Indonesia):\", answer)\n",
        "for teks, intent in intent_results:\n",
        "    print(f\"💬 Teks: {teks}\\n📌 Prediksi Intent (BERT): {intent}\")\n"
      ],
      "metadata": {
        "colab": {
          "base_uri": "https://localhost:8080/"
        },
        "id": "jrpi-gVoszBV",
        "outputId": "c99c30e9-d0b2-472c-a34f-7676e2a3360c"
      },
      "execution_count": 21,
      "outputs": [
        {
          "output_type": "stream",
          "name": "stderr",
          "text": [
            "Device set to use cpu\n"
          ]
        },
        {
          "output_type": "stream",
          "name": "stdout",
          "text": [
            "📚 Konteks (terjemahan Inggris): I live, but I feel confused with my own life. Confused, where do you take this life. It feels like being swayed in a busy world. Often this confusion makes me feel ... Have you ever been confused about your life? I used to when I was young, I was confused, I didn't know what I had to say with my life. Then at that time I did not have mentors who could give motivation and guide me to find what I like. It doesn't taste really good. It feels like you get lost and doubt the same as my future will be. Speaking of life, sometimes I'm confused by that one 'thing'. Everyone has his own way of living his life, but I'm confused by my way. Feeling confused about the purpose of life is common and experienced by many people. However, it is important to overcome this feeling with positive steps. Remember that you have the ability to live a life full of meaning and satisfaction. Try to make the feeling of confusion as an opportunity to ... But there are times when we are confused in living life so that it makes us uneasy. Everyone must have felt confused, like not knowing what to do in life and the days are not calm and can even feel empty. When you feel confused, try applying these 4 things so that your life can be calmer.\n",
            "🧠 Jawaban (dalam Bahasa Indonesia): Saya hidup, tetapi saya merasa bingung dengan hidup saya sendiri. Bingung, di mana Anda mengambil hidup ini\n",
            "💬 Teks: aku bingung banget sama hidupku\n",
            "📌 Prediksi Intent (BERT): psikologi\n"
          ]
        }
      ]
    }
  ]
}